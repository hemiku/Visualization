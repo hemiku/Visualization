{
 "cells": [
  {
   "cell_type": "markdown",
   "metadata": {},
   "source": [
    "# Wizualizacji dyspersji z GVT dla wyników EERPA-GVB obliczonych za pomocą DALTON oraz GAMMCOR"
   ]
  },
  {
   "cell_type": "markdown",
   "metadata": {},
   "source": [
    "Wczytanie odpowiednich modułów programu GVT:"
   ]
  },
  {
   "cell_type": "code",
   "execution_count": 30,
   "metadata": {},
   "outputs": [],
   "source": [
    "import visualization.visualization as v\n",
    "import visualization.dispersion_plot as disp"
   ]
  },
  {
   "cell_type": "markdown",
   "metadata": {},
   "source": [
    "podanie ścieżki do plików wynikowych z obliczenia DALTON - plik z rozszerzeniem .tar, oraz GAMMCOR - plik z rozszerzeniem .txt. Wczytanie wyników do programu GVT:\n",
    "Wczytanie odpowiednich modułów programu GVT:"
   ]
  },
  {
   "cell_type": "code",
   "execution_count": 31,
   "metadata": {},
   "outputs": [],
   "source": [
    "path = \"Examples/C2H4_C2H4/\""
   ]
  },
  {
   "cell_type": "code",
   "execution_count": 32,
   "metadata": {},
   "outputs": [],
   "source": [
    "visualization = disp.DispersionPlot(input_type='Dalton', input_sub_type='tar',\n",
    "input_name= path + 'test')\n",
    "visualization.set_GAMMCOR_filename(filename= path + 'test_erpa.txt')"
   ]
  },
  {
   "cell_type": "markdown",
   "metadata": {},
   "source": [
    "następnie program GVT przeliczy dane z obliczeń EERPA-GVB na wskaźniki dyspersji:\n"
   ]
  },
  {
   "cell_type": "code",
   "execution_count": 33,
   "metadata": {},
   "outputs": [
    {
     "name": "stdout",
     "output_type": "stream",
     "text": [
      "break at line:   Sum :      -0.00094797\n"
     ]
    }
   ],
   "source": [
    "visualization.get_dispersion_index( x_n= 50, y_n= 50, z_n= 50, monomer_A=1, monomer_B=2 )"
   ]
  },
  {
   "cell_type": "markdown",
   "metadata": {},
   "source": [
    "gdzie za pomocą parametrów x-n, y-n oraz z-n ustalamy wielkość grida, monomery A i B numerujemy tak samo jak w inpucie do obliczeń w DALTON, a parametr gpu ustalamy na False lub True w zależności od możliwości wyświetlania z wykorzystaniem karty graficznej. Wizualizujemy dyspersję poprzez:\n"
   ]
  },
  {
   "cell_type": "code",
   "execution_count": 34,
   "metadata": {},
   "outputs": [],
   "source": [
    "figure = visualization.mlab.figure(   'Dyspersja_etylen', \n",
    "        bgcolor= visualization.visualization_data.background_colors['White'],\n",
    "        size=(900, 600) )\n",
    "\n",
    "figure = visualization.Plot_D_AB(atom_names= 0, \n",
    "        atom_scaling= 0.4 , plot_bonds=True, bond_scaling = 0.4 , \n",
    "        contours = ['50%','40%','30%','20%','10%','1%'], scalarbar=False, auto_show=False, figure= figure)\n",
    "visualization.mlab.view(azimuth=90.0, elevation=45.0, distance=16, focalpoint=[-3.85, 0.0, 0.32] )\n",
    "# visualization.mlab.savefig(filename= 'Dyspersja_etylen.png')\n",
    "\n",
    "visualization.mlab.show()"
   ]
  },
  {
   "cell_type": "markdown",
   "metadata": {},
   "source": [
    "Dla wizualizacji możemy ustawić kolor tła za pomocą bgcolor, określić rozmiar wizualizacji za pomocą komendy size. Możemy wyświetlić nazwy atomów zmieniając wartość argumentu atom-names z 0 na 1. Możemy zwiększyć wielkość prezentowanych atomów poprzez zmianę wartości atom-scaling. Proszę zwrócić uwagę na to, że atomy węgla są większe od atomów wodoru. Dla cięższych atomów są przypisane większe kulki. Możemy również wyświetlić lub schować wiązania za pomocą plot-bonds = True lub False, oraz zmienić ich grubość za pomocą  bonds-scaling. Możemy wybrać ilość konturów poprzez zmianę argumentu contours lub zdefiniować procentowy skład konturów poprzez contours = ['50\\%','40\\%','30\\%','20\\%','10\\%','1\\%']. Możemy wyświetlić skalę konturów poprzez scalarbar True albo False. Ustawienie azimuth, elevation, distance, lub focalpoint [współrzędne x,y,z] pozawala na ustawienie precyzyjne cząsteczki w przestrzeni. Jest to wygodne gdy generuje się wiele wizualizacji różnych geminali, orbitali, czy też dyspersję, i za każdym razem ustawienie cząsteczki w przestrzeni chcielibyśmy zachować jednakowe. Wynik można zapisać w przykładowo w pliku .PDF lub .PNG. \\\\\n",
    "% Wyświetlony obraz można swobodnie zwiększać, zmniejszać oraz obracać, jak każdy obiekt typu 3D."
   ]
  },
  {
   "attachments": {},
   "cell_type": "markdown",
   "metadata": {},
   "source": [
    "Oczekiwny rezultat to:\n",
    "\n",
    "![Dyspersia_etylen](Examples/C2H4_C2H4/Dyspersja_etylen.png)"
   ]
  },
  {
   "cell_type": "markdown",
   "metadata": {},
   "source": [
    " Wizualizacji geminali z GVT dla wyników EERPA-GVB obliczonych za pomocą DALTON oraz GAMMCOR\n"
   ]
  },
  {
   "cell_type": "markdown",
   "metadata": {},
   "source": [
    "W celu wizualizacji geminali początkowa część kodu wygląda analogicznie jak w poprzednim przykładzie: \n"
   ]
  },
  {
   "cell_type": "code",
   "execution_count": 35,
   "metadata": {},
   "outputs": [],
   "source": [
    "import visualization.visualization as v\n",
    "import visualization.dispersion_plot as disp"
   ]
  },
  {
   "cell_type": "code",
   "execution_count": 36,
   "metadata": {},
   "outputs": [],
   "source": [
    "path = \"Examples/C2H4_C2H4/\""
   ]
  },
  {
   "cell_type": "code",
   "execution_count": 37,
   "metadata": {},
   "outputs": [],
   "source": [
    "visualization = disp.DispersionPlot(input_type='Dalton', input_sub_type='tar',\n",
    "input_name= path + 'test')\n",
    "visualization.set_GAMMCOR_filename(filename= path + 'test_erpa.txt')\n"
   ]
  },
  {
   "cell_type": "code",
   "execution_count": 38,
   "metadata": {},
   "outputs": [
    {
     "name": "stdout",
     "output_type": "stream",
     "text": [
      "break at line:   Sum :      -0.00094797\n"
     ]
    }
   ],
   "source": [
    "visualization.get_dispersion_index( x_n= 100, y_n= 100, z_n= 100, \n",
    "monomer_A=1, monomer_B=2, gpu=True  )\n"
   ]
  },
  {
   "cell_type": "markdown",
   "metadata": {},
   "source": [
    "Następnie aby pokazać wybrany geminal należy:\n"
   ]
  },
  {
   "cell_type": "code",
   "execution_count": 39,
   "metadata": {},
   "outputs": [],
   "source": [
    "figure = visualization.mlab.figure(  \"Geminal\", \n",
    "        bgcolor= visualization.visualization_data.background_colors['White'],\n",
    "        size=(900, 600) )\n",
    "visualization.plot_Geminals( geminal_numbers=[11], atom_names= 0, \n",
    "atom_scaling= 0.4, contours='90.0%', plot_bonds=True, \n",
    "bond_scaling = 0.4, auto_show=False, figure=figure )\n",
    "visualization.mlab.view(azimuth=90.0, elevation=90.0, distance=20, focalpoint=[-3.85, -0.0, -0.0] )\n",
    "# visualization.mlab.savefig(filename='Geminal_etylen.png')\n",
    "\n",
    "visualization.mlab.show()"
   ]
  },
  {
   "cell_type": "markdown",
   "metadata": {},
   "source": [
    "gdzie za pomocą geminal-numbers wybieramy numer geminalu, numeracja jest zgodna z numeracją w pliku wynikowym z programu DALTON. Użytkownik może wyświetlić nazwy atomów (atom-names, zmienić ich rozmiar dzięki atom-scaling, wybrać wyświetlane kontury (contours), wyświetlić wiązania (plot-bonds) oraz zmienić ich grubość (bond-scaling). Cząsteczkę można ustawić w przestrzeni manualnie lub też wykorzystać parametry azimuth, elevation, distance, focalpoint. Wygenerowaną wizualizację można zapisać w wybranym formacie, np. jako wynik.pdf. Przykład wizualizacji geminalu pokazano poniżej. "
   ]
  },
  {
   "attachments": {},
   "cell_type": "markdown",
   "metadata": {},
   "source": [
    "Oczekiwny rezultat to:\n",
    "\n",
    "![Geminal](Examples/C2H4_C2H4/Geminal_etylen.png)"
   ]
  },
  {
   "cell_type": "markdown",
   "metadata": {},
   "source": [
    "# Wizualizacji dyspersji z GVT dla wyników SAPT(CAS) obliczonych za pomocą MOLPRO oraz GAMMCOR\n"
   ]
  },
  {
   "cell_type": "markdown",
   "metadata": {},
   "source": [
    "## Stan podstawowy"
   ]
  },
  {
   "cell_type": "markdown",
   "metadata": {},
   "source": [
    "Zaczynamy od wczytania odpowiednich modułów programu GVT:\n"
   ]
  },
  {
   "cell_type": "code",
   "execution_count": 40,
   "metadata": {},
   "outputs": [],
   "source": [
    "import visualization.input_molpro as input_molpro\n",
    "import visualization.input_molpro_sapt as input_sapt\n",
    "import visualization.visualization as V\n",
    "import numpy as np\n",
    "import visualization.utils as utils"
   ]
  },
  {
   "cell_type": "markdown",
   "metadata": {},
   "source": [
    "Wczytujemy pliki wynikowe z programów MOLPRO – plik z rozszerzeniem .out oraz GAMMCOR – macierz SAPTVIS:\n"
   ]
  },
  {
   "cell_type": "code",
   "execution_count": 41,
   "metadata": {},
   "outputs": [],
   "source": [
    "path_g = 'Examples/benzcyclo/'"
   ]
  },
  {
   "cell_type": "code",
   "execution_count": 42,
   "metadata": {},
   "outputs": [],
   "source": [
    "molpro_output_file = 'benzcyclo'\n",
    "sapt_A_g = V.Visualization( input_type='MolproSapt', input_sub_type='output', input_name= path_g + molpro_output_file   )\n",
    "sapt_B_g = V.Visualization( input_type='MolproSapt', input_sub_type='output', input_name= path_g + molpro_output_file   )\n",
    "sapt_B_g.data_input.monomer = 1 "
   ]
  },
  {
   "cell_type": "markdown",
   "metadata": {},
   "source": [
    "Program GVT powinien w kolejnym kroku przeczytać geometrie dla obu monomerów, ładunki oraz dane opisujące orbitale:\n"
   ]
  },
  {
   "cell_type": "code",
   "execution_count": 43,
   "metadata": {},
   "outputs": [],
   "source": [
    "sapt_A_g.get_geometry()\n",
    "sapt_B_g.get_geometry()\n",
    "sapt_A_g.molecular_system.atoms_Charge\n",
    "sapt_B_g.molecular_system.atoms_Charge\n",
    "sapt_A_g.get_orbital_data( )"
   ]
  },
  {
   "cell_type": "markdown",
   "metadata": {},
   "source": [
    "Następnie należy ustawić dokładność grida dla prezentacji wyników. Im większe wartości dla  x-n, y-n i z-n wybierzemy tym grid będzie dokładniejszy, jednak będzie wymagał znacznie dłuższego wczytywania danych. Proponujemy zacząć od wartości 10 dla wszystkich trzech parametrów, a następnie zwiększyć dokładność wyświetlania. \n"
   ]
  },
  {
   "cell_type": "code",
   "execution_count": 44,
   "metadata": {},
   "outputs": [],
   "source": [
    "sapt_A_g.orbital_generator.grid.R_max_multip = 1.5\n",
    "sapt_A_g.orbital_generator.grid.x_n = 50\n",
    "sapt_A_g.orbital_generator.grid.y_n = 50\n",
    "sapt_A_g.orbital_generator.grid.z_n = 50\n",
    "sapt_A_g.orbital_generator.init_grid( )\n",
    "sapt_A_g.orbital_generator.init_AOs()\n",
    "sapt_A_g.orbital_generator.spherical  = 1 \n",
    "sapt_B_g.get_orbital_data( )\n",
    "sapt_B_g.orbital_generator.grid.R_max_multip = 1.5\n",
    "sapt_B_g.orbital_generator.grid.x_n = 50\n",
    "sapt_B_g.orbital_generator.grid.y_n = 50\n",
    "sapt_B_g.orbital_generator.grid.z_n = 50\n",
    "sapt_B_g.orbital_generator.init_grid( )\n",
    "sapt_B_g.orbital_generator.init_AOs()\n",
    "sapt_B_g.orbital_generator.spherical  = True "
   ]
  },
  {
   "cell_type": "markdown",
   "metadata": {},
   "source": [
    "Dalsza część kodu przetwarza współczynniki rozwinięć, generuje dane dla orbitali atomowych AO oraz orbitali molekularnych MO:\n"
   ]
  },
  {
   "cell_type": "code",
   "execution_count": 45,
   "metadata": {},
   "outputs": [],
   "source": [
    "ANBasis_g, BNBasis_g, NOccupA_g, NOccupB_g, A_Occ_g, B_Occ_g, ACMO_g, BCMO_g, Qmat_g = utils.read_SAPTVIS( path_g + 'SAPTVIS' )\n",
    "sapt_A_g.molecular_system.Coeff[:,:] = ACMO_g\n",
    "sapt_B_g.molecular_system.Coeff[:,:] = BCMO_g\n",
    "sapt_A_g.generate_AO_orbitals_gpu()\n",
    "sapt_A_g.generate_MO_orbitals_gpu()\n",
    "sapt_B_g.generate_AO_orbitals_gpu()\n",
    "sapt_B_g.generate_MO_orbitals_gpu()"
   ]
  },
  {
   "cell_type": "markdown",
   "metadata": {},
   "source": [
    "Następnie obliczamy macierz Q na podstawie której wyświetlać będziemy dyspersję: "
   ]
  },
  {
   "cell_type": "code",
   "execution_count": 46,
   "metadata": {},
   "outputs": [],
   "source": [
    "sapt_dispersion_A_g =  np.zeros_like( sapt_A_g.molecular_system.AOs[0] )\n",
    "sapt_dispersion_B_g =  np.zeros_like( sapt_B_g.molecular_system.AOs[0] )\n",
    "Qmat_tmp_g = np.reshape(Qmat_g, [NOccupB_g,NOccupA_g] ).transpose()\n",
    "for i in range(NOccupA_g):\n",
    "    for j in range(NOccupB_g):   \n",
    "        sapt_dispersion_A_g += Qmat_tmp_g[i,j] * A_Occ_g[i] * sapt_A_g.molecular_system.MOs[i]**2 \n",
    "        sapt_dispersion_B_g += Qmat_tmp_g[i,j] * B_Occ_g[j] * sapt_B_g.molecular_system.MOs[j]**2 \n",
    "sapt_dispersion_AB_g = -0.5 * ( sapt_dispersion_A_g + sapt_dispersion_B_g )  "
   ]
  },
  {
   "cell_type": "markdown",
   "metadata": {},
   "source": [
    "Do tej pory zmiany w kodzie wymagała jedynie nazwa folderu z plikami wynikowymi oraz nazwa plików wynikowych, a także gęstość grida. W ostatniej części kodu znów możemy manipulować parametrami takimi jak wyświetlanie wiązań oraz ustawienie ich grubości, ustawienie wielkości atomów, rodzaju i ilości konturów:\n"
   ]
  },
  {
   "cell_type": "code",
   "execution_count": 47,
   "metadata": {},
   "outputs": [],
   "source": [
    "X, Y, Z = sapt_A_g.orbital_generator.grid.return_grid_arrays()\n",
    "figure = visualization.mlab.figure(  \"sapt_dispersion_AB_g\", \n",
    "        bgcolor= visualization.visualization_data.background_colors['White'],\n",
    "        size=(900, 600) )\n",
    "plot_figure = sapt_A_g.plot_orbitals_MO(orbital_numbers=[],auto_show=False, \n",
    "    plot_bonds=True, atom_names=False, atom_scaling=0.5, figure=figure )\n",
    "sapt_A_g.mlab.contour3d( X, Y, Z, sapt_dispersion_AB_g,  \n",
    "    contours= sapt_A_g.contour_process(['50%','40%','30%','20%','10%','1%'], \n",
    "    sapt_dispersion_AB_g) , opacity=0.5)\n",
    "sapt_A_g.mlab.view( distance=26 )\n",
    "# sapt_A_g.mlab.savefig(filename= 'sapt_dispersion_AB_g.png')\n",
    "\n",
    "sapt_A_g.mlab.show()"
   ]
  },
  {
   "attachments": {},
   "cell_type": "markdown",
   "metadata": {},
   "source": [
    "Przykład wizualizacji dyspersji dla stanu podstawowego układu benzen-cyklopentan pokazano poniżej:\n",
    "\n",
    "![sapt_dispersion_AB_g](Examples/benzcyclo/sapt_dispersion_AB_g.png)"
   ]
  },
  {
   "cell_type": "markdown",
   "metadata": {},
   "source": [
    "## Stan wzbudzony"
   ]
  },
  {
   "cell_type": "markdown",
   "metadata": {},
   "source": [
    "Postępujemy analogicznie jak dla stanu podstawowego. "
   ]
  },
  {
   "cell_type": "code",
   "execution_count": 48,
   "metadata": {},
   "outputs": [],
   "source": [
    "path_e = 'Examples/benzcyclo_excite/'"
   ]
  },
  {
   "cell_type": "code",
   "execution_count": 49,
   "metadata": {},
   "outputs": [],
   "source": [
    "molpro_output_file = 'benzcyclo'\n",
    "sapt_A_e = V.Visualization( input_type='MolproSapt', input_sub_type='output',  \n",
    "input_name= path_e + molpro_output_file   )\n",
    "sapt_B_e = V.Visualization( input_type='MolproSapt', input_sub_type='output',  \n",
    "input_name= path_e + molpro_output_file   )\n",
    "sapt_B_e.data_input.monomer = 1 "
   ]
  },
  {
   "cell_type": "code",
   "execution_count": 50,
   "metadata": {},
   "outputs": [],
   "source": [
    "sapt_A_e.get_geometry()\n",
    "sapt_B_e.get_geometry()\n",
    "sapt_A_e.molecular_system.atoms_Charge\n",
    "sapt_B_e.molecular_system.atoms_Charge\n",
    "sapt_A_e.get_orbital_data( )\n",
    "sapt_A_e.orbital_generator.grid.R_max_multip = 1.5\n",
    "sapt_A_e.orbital_generator.grid.x_n = 50\n",
    "sapt_A_e.orbital_generator.grid.y_n = 50\n",
    "sapt_A_e.orbital_generator.grid.z_n = 50\n",
    "sapt_A_e.orbital_generator.init_grid( )\n",
    "sapt_A_e.orbital_generator.init_AOs()\n",
    "sapt_A_e.orbital_generator.spherical  = 1 \n",
    "sapt_B_e.get_orbital_data( )\n",
    "sapt_B_e.orbital_generator.grid.R_max_multip = 1.5\n",
    "sapt_B_e.orbital_generator.grid.x_n = 50\n",
    "sapt_B_e.orbital_generator.grid.y_n = 50\n",
    "sapt_B_e.orbital_generator.grid.z_n = 50\n",
    "sapt_B_e.orbital_generator.init_grid( )\n",
    "sapt_B_e.orbital_generator.init_AOs()\n",
    "sapt_B_e.orbital_generator.spherical  = 1 "
   ]
  },
  {
   "cell_type": "code",
   "execution_count": 51,
   "metadata": {},
   "outputs": [],
   "source": [
    "ANBasis_e, BNBasis_e, NOccupA_e, NOccupB_e, A_Occ_e, B_Occ_e, ACMO_e, BCMO_e, Qmat_e = utils.read_SAPTVIS( path_e + 'SAPTVIS' )\n",
    "sapt_A_e.molecular_system.Coeff[:,:] = ACMO_e\n",
    "sapt_B_e.molecular_system.Coeff[:,:] = BCMO_e\n",
    "sapt_A_e.generate_AO_orbitals_gpu()\n",
    "sapt_A_e.generate_MO_orbitals_gpu()\n",
    "sapt_B_e.generate_AO_orbitals_gpu()\n",
    "sapt_B_e.generate_MO_orbitals_gpu()"
   ]
  },
  {
   "cell_type": "code",
   "execution_count": null,
   "metadata": {},
   "outputs": [],
   "source": [
    "sapt_dispersion_A_e =  np.zeros_like( sapt_A_e.molecular_system.AOs[0] )\n",
    "sapt_dispersion_B_e =  np.zeros_like( sapt_B_e.molecular_system.AOs[0] )\n",
    "Qmat_tmp_e = np.reshape(Qmat_e, [NOccupB_e,NOccupA_e] ).transpose()\n",
    "for i in range(NOccupA_e):\n",
    "#     print(i)\n",
    "    for j in range(NOccupB_e):      \n",
    "        sapt_dispersion_A_e += Qmat_tmp_e[i,j] * A_Occ_e[i] * sapt_A_e.molecular_system.MOs[i]**2 \n",
    "        sapt_dispersion_B_e += Qmat_tmp_e[i,j] * B_Occ_e[j] * sapt_B_e.molecular_system.MOs[j]**2 \n",
    "sapt_dispersion_AB_e = -0.5 * ( sapt_dispersion_A_e + sapt_dispersion_B_e )  "
   ]
  },
  {
   "cell_type": "code",
   "execution_count": null,
   "metadata": {},
   "outputs": [],
   "source": [
    "X, Y, Z = sapt_A_e.orbital_generator.grid.return_grid_arrays()\n",
    "figure = visualization.mlab.figure(  \"sapt_dispersion_AB_e\", \n",
    "        bgcolor= visualization.visualization_data.background_colors['White'],\n",
    "        size=(900, 600) )\n",
    "plot_figure = sapt_A_e.plot_orbitals_MO(orbital_numbers=[],auto_show=False, \n",
    "    plot_bonds=True, atom_names=False, atom_scaling=0.5, figure = figure)\n",
    "sapt_A_e.mlab.contour3d( X, Y, Z, sapt_dispersion_AB_e,  \n",
    "contours= sapt_A_e.contour_process( ['50%','40%','30%','20%','10%','1%'], sapt_dispersion_AB_e) , opacity=0.5)\n",
    "sapt_A_g.mlab.view( distance=26 )\n",
    "# sapt_A_g.mlab.savefig(filename= 'sapt_dispersion_AB_e.png')\n",
    "\n",
    "sapt_A_e.mlab.show()"
   ]
  },
  {
   "attachments": {},
   "cell_type": "markdown",
   "metadata": {},
   "source": [
    "Przykład wizualizacji dyspersji dla stanu wzbudzonego układu benzen-cyklopentan pokazano poniżej:\n",
    "\n",
    "![sapt_dispersion_AB_g](Examples/benzcyclo_excite/sapt_dispersion_AB_e.png)"
   ]
  },
  {
   "cell_type": "markdown",
   "metadata": {},
   "source": [
    "\n",
    "\n",
    "\n",
    "\n",
    "\n",
    "## Różnica dyspersji między stanem wzbudzonym a podstawowym"
   ]
  },
  {
   "cell_type": "markdown",
   "metadata": {},
   "source": [
    "Tak jak pokazano na poprzednich przykładach, ciężko jest czasem dostrzec różnicę w dyspersji pomiędzy stanem podstawowym a stanem wzbudzonym. Dlatego też program GVT potrafi policzyć różnicę gęstości czy też dyspersji pomiędzy stanem podstawowym, a wzbudzonym, tak, że od wartości dla stanu wzbudzonego odejmuje się wartości dla stanu podstawowego. Aby to zrobić należy wczytać do programu GVT dane dla stanu podstawowego oraz wzbudzonego tak jak w poprzednich przypadkach, a następnie wykonać:\n"
   ]
  },
  {
   "cell_type": "code",
   "execution_count": null,
   "metadata": {},
   "outputs": [],
   "source": [
    "sapt_dispersion_AB_eg = -( sapt_dispersion_AB_e - sapt_dispersion_AB_g )\n",
    "X, Y, Z = sapt_A_e.orbital_generator.grid.return_grid_arrays()"
   ]
  },
  {
   "cell_type": "code",
   "execution_count": null,
   "metadata": {},
   "outputs": [],
   "source": [
    "figure = visualization.mlab.figure(  \"sapt_dispersion_AB_eg\", \n",
    "        bgcolor= visualization.visualization_data.background_colors['White'],\n",
    "        size=(900, 600) )\n",
    "\n",
    "plot_figure = sapt_A_e.plot_orbitals_MO(orbital_numbers=[],auto_show=False, \n",
    "    plot_bonds=True, atom_names=False, atom_scaling=0.5, figure = figure)\n",
    "sapt_A_e.mlab.contour3d( X, Y, Z, sapt_dispersion_AB_eg,  \n",
    "contours= sapt_A_e.contour_process(['70%','50%','40%','30%','20%','10%','1%'],\n",
    "sapt_dispersion_AB_eg) , opacity=0.5)\n",
    "sapt_A_e.mlab.view( distance=26 )\n",
    "# sapt_A_e.mlab.savefig(filename= 'sapt_dispersion_AB_eg.png')\n",
    "\n",
    "sapt_A_e.mlab.show()"
   ]
  },
  {
   "attachments": {},
   "cell_type": "markdown",
   "metadata": {},
   "source": [
    "Przykład wizualizacji rużnicy dyspersji dla stanów wzbudzonego i podstawowego układu benzen-cyklopentan pokazano poniżej:\n",
    "\n",
    "![sapt_dispersion_AB_g](Examples/benzcyclo_excite/sapt_dispersion_AB_eg.png)"
   ]
  },
  {
   "cell_type": "markdown",
   "metadata": {},
   "source": [
    "## Wizualizacji różnicy gęstości z GVT dla wyników SAPT(CAS) obliczonych za pomocą MOLPRO oraz GAMMCOR}"
   ]
  },
  {
   "cell_type": "code",
   "execution_count": null,
   "metadata": {},
   "outputs": [],
   "source": [
    "sapt_density_A_g =  np.zeros_like( sapt_A_g.molecular_system.AOs[0] )\n",
    "sapt_density_B_g =  np.zeros_like( sapt_B_g.molecular_system.AOs[0] )\n",
    "for i in range(NOccupA_g):\n",
    "    sapt_density_A_g += A_Occ_g[i] * sapt_A_g.molecular_system.MOs[i]**2 \n",
    "for j in range(NOccupB_e):   \n",
    "    sapt_density_B_g += B_Occ_g[j] * sapt_B_g.molecular_system.MOs[j]**2 \n",
    "\n",
    "sapt_density_A_e =  np.zeros_like( sapt_A_e.molecular_system.AOs[0] )\n",
    "sapt_density_B_e =  np.zeros_like( sapt_B_e.molecular_system.AOs[0] )\n",
    "for i in range(NOccupA_e):\n",
    "    sapt_density_A_e += A_Occ_e[i] * sapt_A_e.molecular_system.MOs[i]**2 \n",
    "for j in range(NOccupB_e):      \n",
    "    sapt_density_B_e +=  B_Occ_e[j] * sapt_B_e.molecular_system.MOs[j]**2 \n",
    "sapt_density_AB_g = ( sapt_density_A_g + sapt_density_B_g )  \n",
    "sapt_density_AB_e = ( sapt_density_A_e + sapt_density_B_e )  "
   ]
  },
  {
   "cell_type": "markdown",
   "metadata": {},
   "source": [
    "Program GVT oblicza różnicę gęstości tak, że od stanu wzbudzonego odejmuje wartości dla stanu podstawowego. \n"
   ]
  },
  {
   "cell_type": "code",
   "execution_count": null,
   "metadata": {},
   "outputs": [],
   "source": [
    "sapt_density_AB_eg = ( sapt_density_AB_e - sapt_density_AB_g )\n"
   ]
  },
  {
   "cell_type": "markdown",
   "metadata": {},
   "source": [
    "W ostatnim kroku wyświetlamy naszą różnicę gęstości. Użytkownik znów ma dużą dowolność przy ustawieniu parametrów wyświetlania, tak jak to było w poprzednich przykładach. \n",
    "\n"
   ]
  },
  {
   "cell_type": "code",
   "execution_count": null,
   "metadata": {},
   "outputs": [],
   "source": [
    "figure = visualization.mlab.figure(  \"sapt_density_AB_eg\", \n",
    "        bgcolor= visualization.visualization_data.background_colors['White'],\n",
    "        size=(900, 600) )\n",
    "\n",
    "X, Y, Z = sapt_A_e.orbital_generator.grid.return_grid_arrays()\n",
    "plot_figure = sapt_A_e.plot_orbitals_MO(orbital_numbers=[],auto_show=False, \n",
    "    plot_bonds=True, atom_names=False, atom_scaling=0.5 , figure = figure)\n",
    "sapt_A_e.mlab.contour3d(    X, Y, Z, sapt_density_AB_eg, \n",
    "                    contours= sapt_A_e.contour_process( \n",
    "                    ['70%','60%','50%','40%','30%','20%','10%','1%','0.1%'], \n",
    "                    sapt_density_AB_eg), opacity=0.5)\n",
    "sapt_A_e.mlab.view( distance=26 )\n",
    "# sapt_A_e.mlab.savefig(filename= 'sapt_density_AB_eg.png')\n",
    "\n",
    "sapt_A_e.mlab.show()"
   ]
  },
  {
   "attachments": {},
   "cell_type": "markdown",
   "metadata": {},
   "source": [
    "Przykład wizualizacji rużnicy gęstości elektronowych dla stanów wzbudzonego i podstawowego układu benzen-cyklopentan pokazano poniżej:\n",
    "\n",
    "![sapt_dispersion_AB_g](Examples/benzcyclo_excite/sapt_density_AB_eg.png)"
   ]
  },
  {
   "cell_type": "markdown",
   "metadata": {},
   "source": []
  }
 ],
 "metadata": {
  "kernelspec": {
   "display_name": "Python 3 (ipykernel)",
   "language": "python",
   "name": "python3"
  },
  "language_info": {
   "codemirror_mode": {
    "name": "ipython",
    "version": 3
   },
   "file_extension": ".py",
   "mimetype": "text/x-python",
   "name": "python",
   "nbconvert_exporter": "python",
   "pygments_lexer": "ipython3",
   "version": "3.9.16"
  }
 },
 "nbformat": 4,
 "nbformat_minor": 2
}
